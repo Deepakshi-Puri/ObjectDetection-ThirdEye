{
 "cells": [
  {
   "cell_type": "markdown",
   "metadata": {},
   "source": [
    "# 1. Import Dependencies"
   ]
  },
  {
   "cell_type": "code",
   "execution_count": 1,
   "metadata": {},
   "outputs": [
    {
     "name": "stdout",
     "output_type": "stream",
     "text": [
      "Requirement already satisfied: opencv-python in d:\\project\\tensorflow object detection\\tfodcourse-main\\tfod\\lib\\site-packages (4.5.5.64)\n",
      "Requirement already satisfied: numpy>=1.14.5 in d:\\project\\tensorflow object detection\\tfodcourse-main\\tfod\\lib\\site-packages (from opencv-python) (1.21.6)\n"
     ]
    }
   ],
   "source": [
    "!pip install opencv-python"
   ]
  },
  {
   "cell_type": "code",
   "execution_count": 2,
   "metadata": {},
   "outputs": [],
   "source": [
    "# Import opencv\n",
    "import cv2 \n",
    "\n",
    "# Import uuid\n",
    "import uuid\n",
    "\n",
    "# Import Operating System\n",
    "import os\n",
    "\n",
    "# Import time\n",
    "import time"
   ]
  },
  {
   "cell_type": "markdown",
   "metadata": {},
   "source": [
    "# 2. Define Images to Collect"
   ]
  },
  {
   "cell_type": "code",
   "execution_count": 3,
   "metadata": {},
   "outputs": [],
   "source": [
    "labels = ['phone', 'hand', 'glass', 'spectacles']\n",
    "number_imgs = 5"
   ]
  },
  {
   "cell_type": "markdown",
   "metadata": {},
   "source": [
    "# 3. Setup Folders "
   ]
  },
  {
   "cell_type": "code",
   "execution_count": 4,
   "metadata": {},
   "outputs": [],
   "source": [
    "IMAGES_PATH = os.path.join('Tensorflow', 'workspace', 'images', 'collectedimages')"
   ]
  },
  {
   "cell_type": "code",
   "execution_count": 5,
   "metadata": {},
   "outputs": [],
   "source": [
    "if not os.path.exists(IMAGES_PATH):\n",
    "    if os.name == 'posix':\n",
    "        !mkdir -p {IMAGES_PATH}\n",
    "    if os.name == 'nt':\n",
    "         !mkdir {IMAGES_PATH}\n",
    "for label in labels:\n",
    "    path = os.path.join(IMAGES_PATH, label)\n",
    "    if not os.path.exists(path):\n",
    "        !mkdir {path}"
   ]
  },
  {
   "cell_type": "markdown",
   "metadata": {},
   "source": [
    "# 4. Capture Images"
   ]
  },
  {
   "cell_type": "code",
   "execution_count": 7,
   "metadata": {},
   "outputs": [
    {
     "name": "stdout",
     "output_type": "stream",
     "text": [
      "Collecting images for phone\n",
      "Collecting image 0\n",
      "Collecting image 1\n",
      "Collecting image 2\n",
      "Collecting image 3\n",
      "Collecting image 4\n",
      "Collecting images for hand\n",
      "Collecting image 0\n",
      "Collecting image 1\n",
      "Collecting image 2\n",
      "Collecting image 3\n",
      "Collecting image 4\n",
      "Collecting images for glass\n",
      "Collecting image 0\n",
      "Collecting image 1\n",
      "Collecting image 2\n",
      "Collecting image 3\n",
      "Collecting image 4\n",
      "Collecting images for spectacles\n",
      "Collecting image 0\n",
      "Collecting image 1\n",
      "Collecting image 2\n",
      "Collecting image 3\n",
      "Collecting image 4\n"
     ]
    }
   ],
   "source": [
    "for label in labels:\n",
    "    cap = cv2.VideoCapture(0)\n",
    "    print('Collecting images for {}'.format(label))\n",
    "    time.sleep(8)\n",
    "    for imgnum in range(number_imgs):\n",
    "        print('Collecting image {}'.format(imgnum))\n",
    "        ret, frame = cap.read()\n",
    "        imgname = os.path.join(IMAGES_PATH,label,label+'.'+'{}.jpg'.format(str(uuid.uuid1())))\n",
    "        cv2.imwrite(imgname, frame)\n",
    "        cv2.imshow('frame', frame)\n",
    "        time.sleep(5)\n",
    "\n",
    "        if cv2.waitKey(1) & 0xFF == ord('q'):\n",
    "            break\n",
    "cap.release()\n",
    "cv2.destroyAllWindows()"
   ]
  },
  {
   "cell_type": "markdown",
   "metadata": {},
   "source": [
    "# 5. Image Labelling"
   ]
  },
  {
   "cell_type": "code",
   "execution_count": 8,
   "metadata": {},
   "outputs": [
    {
     "name": "stdout",
     "output_type": "stream",
     "text": [
      "Requirement already satisfied: pyqt5 in d:\\project\\tensorflow object detection\\tfodcourse-main\\tfod\\lib\\site-packages (5.15.6)\n",
      "Requirement already satisfied: lxml in d:\\project\\tensorflow object detection\\tfodcourse-main\\tfod\\lib\\site-packages (4.8.0)\n",
      "Requirement already satisfied: PyQt5-Qt5>=5.15.2 in d:\\project\\tensorflow object detection\\tfodcourse-main\\tfod\\lib\\site-packages (from pyqt5) (5.15.2)\n",
      "Requirement already satisfied: PyQt5-sip<13,>=12.8 in d:\\project\\tensorflow object detection\\tfodcourse-main\\tfod\\lib\\site-packages (from pyqt5) (12.10.1)\n"
     ]
    }
   ],
   "source": [
    "!pip install --upgrade pyqt5 lxml"
   ]
  },
  {
   "cell_type": "code",
   "execution_count": 10,
   "metadata": {},
   "outputs": [
    {
     "name": "stdout",
     "output_type": "stream",
     "text": [
      "Package           Version\n",
      "----------------- --------\n",
      "backcall          0.2.0\n",
      "colorama          0.4.4\n",
      "debugpy           1.6.0\n",
      "decorator         5.1.1\n",
      "entrypoints       0.4\n",
      "ipykernel         6.13.0\n",
      "ipython           7.33.0\n",
      "jedi              0.18.1\n",
      "jupyter-client    7.3.0\n",
      "jupyter-core      4.10.0\n",
      "lxml              4.8.0\n",
      "matplotlib-inline 0.1.3\n",
      "nest-asyncio      1.5.5\n",
      "numpy             1.21.6\n",
      "opencv-python     4.5.5.64\n",
      "packaging         21.3\n",
      "parso             0.8.3\n",
      "pickleshare       0.7.5\n",
      "pip               22.0.4\n",
      "prompt-toolkit    3.0.29\n",
      "psutil            5.9.0\n",
      "Pygments          2.12.0\n",
      "pyparsing         3.0.8\n",
      "PyQt5             5.15.6\n",
      "PyQt5-Qt5         5.15.2\n",
      "PyQt5-sip         12.10.1\n",
      "python-dateutil   2.8.2\n",
      "pywin32           304\n",
      "pyzmq             22.3.0\n",
      "setuptools        40.8.0\n",
      "six               1.16.0\n",
      "tornado           6.1\n",
      "traitlets         5.1.1\n",
      "wcwidth           0.2.5\n"
     ]
    }
   ],
   "source": [
    "!pip list"
   ]
  },
  {
   "cell_type": "code",
   "execution_count": 9,
   "metadata": {},
   "outputs": [],
   "source": [
    "LABELIMG_PATH = os.path.join('Tensorflow', 'labelimg')"
   ]
  },
  {
   "cell_type": "code",
   "execution_count": 12,
   "metadata": {},
   "outputs": [],
   "source": [
    "if not os.path.exists(LABELIMG_PATH):\n",
    "    !mkdir {LABELIMG_PATH}\n",
    "    # git clone"
   ]
  },
  {
   "cell_type": "code",
   "execution_count": 10,
   "metadata": {},
   "outputs": [],
   "source": [
    "if os.name == 'posix':\n",
    "    !make qt5py3\n",
    "if os.name =='nt':\n",
    "    !cd {LABELIMG_PATH} && pyrcc5 -o libs/resources.py resources.qrc"
   ]
  },
  {
   "cell_type": "code",
   "execution_count": 11,
   "metadata": {},
   "outputs": [
    {
     "name": "stdout",
     "output_type": "stream",
     "text": [
      "Cancel creation.\n",
      "Cancel creation.\n",
      "Cancel creation.\n",
      "Image:D:\\Project\\Tensorflow Object detection\\TFODCourse-main\\Tensorflow\\workspace\\images\\collectedimages\\glass\\glass.a5d9d236-d083-11ec-ba4e-9828a64155df.jpg -> Annotation:D:/Project/Tensorflow Object detection/TFODCourse-main/Tensorflow/workspace/images/collectedimages/glass/glass.a5d9d236-d083-11ec-ba4e-9828a64155df.xml\n",
      "Cancel creation.\n",
      "Cancel creation.\n",
      "Cancel creation.\n",
      "Image:D:\\Project\\Tensorflow Object detection\\TFODCourse-main\\Tensorflow\\workspace\\images\\collectedimages\\glass\\glass.9fd27894-d083-11ec-b6c1-9828a64155df.jpg -> Annotation:D:/Project/Tensorflow Object detection/TFODCourse-main/Tensorflow/workspace/images/collectedimages/glass/glass.9fd27894-d083-11ec-b6c1-9828a64155df.xml\n",
      "Image:D:\\Project\\Tensorflow Object detection\\TFODCourse-main\\Tensorflow\\workspace\\images\\collectedimages\\glass\\glass.a2d5ed86-d083-11ec-82bf-9828a64155df.jpg -> Annotation:D:/Project/Tensorflow Object detection/TFODCourse-main/Tensorflow/workspace/images/collectedimages/glass/glass.a2d5ed86-d083-11ec-82bf-9828a64155df.xml\n",
      "Image:D:\\Project\\Tensorflow Object detection\\TFODCourse-main\\Tensorflow\\workspace\\images\\collectedimages\\glass\\glass.a5d9d236-d083-11ec-ba4e-9828a64155df.jpg -> Annotation:D:/Project/Tensorflow Object detection/TFODCourse-main/Tensorflow/workspace/images/collectedimages/glass/glass.a5d9d236-d083-11ec-ba4e-9828a64155df.xml\n",
      "Image:D:\\Project\\Tensorflow Object detection\\TFODCourse-main\\Tensorflow\\workspace\\images\\collectedimages\\glass\\glass.a8dd23ac-d083-11ec-a93f-9828a64155df.jpg -> Annotation:D:/Project/Tensorflow Object detection/TFODCourse-main/Tensorflow/workspace/images/collectedimages/glass/a.xml\n",
      "Image:D:\\Project\\Tensorflow Object detection\\TFODCourse-main\\Tensorflow\\workspace\\images\\collectedimages\\glass\\glass.abe12458-d083-11ec-85d2-9828a64155df.jpg -> Annotation:D:/Project/Tensorflow Object detection/TFODCourse-main/Tensorflow/workspace/images/collectedimages/glass/glass.abe12458-d083-11ec-85d2-9828a64155df.xml\n",
      "Image:D:\\Project\\Tensorflow Object detection\\TFODCourse-main\\Tensorflow\\workspace\\images\\collectedimages\\hand\\hand.8b15ece8-d083-11ec-ba60-9828a64155df.jpg -> Annotation:D:/Project/Tensorflow Object detection/TFODCourse-main/Tensorflow/workspace/images/collectedimages/hand/hand.8b15ece8-d083-11ec-ba60-9828a64155df.xml\n",
      "Image:D:\\Project\\Tensorflow Object detection\\TFODCourse-main\\Tensorflow\\workspace\\images\\collectedimages\\hand\\hand.8e15fa00-d083-11ec-97b1-9828a64155df.jpg -> Annotation:D:/Project/Tensorflow Object detection/TFODCourse-main/Tensorflow/workspace/images/collectedimages/hand/hand.8e15fa00-d083-11ec-97b1-9828a64155df.xml\n",
      "Image:D:\\Project\\Tensorflow Object detection\\TFODCourse-main\\Tensorflow\\workspace\\images\\collectedimages\\hand\\hand.941cbb7e-d083-11ec-b993-9828a64155df.jpg -> Annotation:D:/Project/Tensorflow Object detection/TFODCourse-main/Tensorflow/workspace/images/collectedimages/hand/hand.941cbb7e-d083-11ec-b993-9828a64155df.xml\n",
      "Image:D:\\Project\\Tensorflow Object detection\\TFODCourse-main\\Tensorflow\\workspace\\images\\collectedimages\\hand\\hand.971fceae-d083-11ec-a036-9828a64155df.jpg -> Annotation:D:/Project/Tensorflow Object detection/TFODCourse-main/Tensorflow/workspace/images/collectedimages/hand/hand.971fceae-d083-11ec-a036-9828a64155df.xml\n",
      "Image:D:\\Project\\Tensorflow Object detection\\TFODCourse-main\\Tensorflow\\workspace\\images\\collectedimages\\hand\\hand.9118f9c8-d083-11ec-b145-9828a64155df.jpg -> Annotation:D:/Project/Tensorflow Object detection/TFODCourse-main/Tensorflow/workspace/images/collectedimages/hand/hand.9118f9c8-d083-11ec-b145-9828a64155df.xml\n",
      "Image:D:\\Project\\Tensorflow Object detection\\TFODCourse-main\\Tensorflow\\workspace\\images\\collectedimages\\phone\\phone.7c58cc40-d083-11ec-8368-9828a64155df.jpg -> Annotation:D:/Project/Tensorflow Object detection/TFODCourse-main/Tensorflow/workspace/images/collectedimages/phone/phone.7c58cc40-d083-11ec-8368-9828a64155df.xml\n",
      "Cancel creation.\n",
      "Image:D:\\Project\\Tensorflow Object detection\\TFODCourse-main\\Tensorflow\\workspace\\images\\collectedimages\\phone\\phone.7f5b3598-d083-11ec-8d22-9828a64155df.jpg -> Annotation:D:/Project/Tensorflow Object detection/TFODCourse-main/Tensorflow/workspace/images/collectedimages/phone/phone.7f5b3598-d083-11ec-8d22-9828a64155df.xml\n",
      "Image:D:\\Project\\Tensorflow Object detection\\TFODCourse-main\\Tensorflow\\workspace\\images\\collectedimages\\phone\\phone.825d0768-d083-11ec-b058-9828a64155df.jpg -> Annotation:D:/Project/Tensorflow Object detection/TFODCourse-main/Tensorflow/workspace/images/collectedimages/phone/phone.825d0768-d083-11ec-b058-9828a64155df.xml\n",
      "Image:D:\\Project\\Tensorflow Object detection\\TFODCourse-main\\Tensorflow\\workspace\\images\\collectedimages\\phone\\phone.7651c6b6-d083-11ec-84ac-9828a64155df.jpg -> Annotation:D:/Project/Tensorflow Object detection/TFODCourse-main/Tensorflow/workspace/images/collectedimages/phone/phone.7651c6b6-d083-11ec-84ac-9828a64155df.xml\n",
      "Image:D:\\Project\\Tensorflow Object detection\\TFODCourse-main\\Tensorflow\\workspace\\images\\collectedimages\\phone\\phone.7955f768-d083-11ec-8461-9828a64155df.jpg -> Annotation:D:/Project/Tensorflow Object detection/TFODCourse-main/Tensorflow/workspace/images/collectedimages/phone/phone.7955f768-d083-11ec-8461-9828a64155df.xml\n",
      "Image:D:\\Project\\Tensorflow Object detection\\TFODCourse-main\\Tensorflow\\workspace\\images\\collectedimages\\spectacles\\spectacles.b48b4a76-d083-11ec-bdf3-9828a64155df.jpg -> Annotation:D:/Project/Tensorflow Object detection/TFODCourse-main/Tensorflow/workspace/images/collectedimages/spectacles/spectacles.b48b4a76-d083-11ec-bdf3-9828a64155df.xml\n",
      "Image:D:\\Project\\Tensorflow Object detection\\TFODCourse-main\\Tensorflow\\workspace\\images\\collectedimages\\spectacles\\spectacles.b78c01e4-d083-11ec-bb12-9828a64155df.jpg -> Annotation:D:/Project/Tensorflow Object detection/TFODCourse-main/Tensorflow/workspace/images/collectedimages/spectacles/spectacles.b78c01e4-d083-11ec-bb12-9828a64155df.xml\n",
      "Image:D:\\Project\\Tensorflow Object detection\\TFODCourse-main\\Tensorflow\\workspace\\images\\collectedimages\\spectacles\\spectacles.ba8ee9b6-d083-11ec-b601-9828a64155df.jpg -> Annotation:D:/Project/Tensorflow Object detection/TFODCourse-main/Tensorflow/workspace/images/collectedimages/spectacles/spectacles.ba8ee9b6-d083-11ec-b601-9828a64155df.xml\n",
      "Image:D:\\Project\\Tensorflow Object detection\\TFODCourse-main\\Tensorflow\\workspace\\images\\collectedimages\\spectacles\\spectacles.bd90bbd2-d083-11ec-956a-9828a64155df.jpg -> Annotation:D:/Project/Tensorflow Object detection/TFODCourse-main/Tensorflow/workspace/images/collectedimages/spectacles/spectacles.bd90bbd2-d083-11ec-956a-9828a64155df.xml\n",
      "Image:D:\\Project\\Tensorflow Object detection\\TFODCourse-main\\Tensorflow\\workspace\\images\\collectedimages\\spectacles\\spectacles.c0939b9c-d083-11ec-ac2d-9828a64155df.jpg -> Annotation:D:/Project/Tensorflow Object detection/TFODCourse-main/Tensorflow/workspace/images/collectedimages/spectacles/spectacles.c0939b9c-d083-11ec-ac2d-9828a64155df.xml\n"
     ]
    }
   ],
   "source": [
    "!cd {LABELIMG_PATH} && python labelImg.py"
   ]
  },
  {
   "cell_type": "markdown",
   "metadata": {},
   "source": [
    "# 6. Move them into a Training and Testing Partition"
   ]
  },
  {
   "cell_type": "markdown",
   "metadata": {},
   "source": [
    "# OPTIONAL - 7. Compress them for Colab Training"
   ]
  },
  {
   "cell_type": "code",
   "execution_count": 20,
   "metadata": {},
   "outputs": [],
   "source": [
    "TRAIN_PATH = os.path.join('Tensorflow', 'workspace', 'images', 'train')\n",
    "TEST_PATH = os.path.join('Tensorflow', 'workspace', 'images', 'test')\n",
    "ARCHIVE_PATH = os.path.join('Tensorflow', 'workspace', 'images', 'archive.tar.gz')"
   ]
  },
  {
   "cell_type": "code",
   "execution_count": 21,
   "metadata": {},
   "outputs": [],
   "source": [
    "!tar -czf {ARCHIVE_PATH} {TRAIN_PATH} {TEST_PATH}"
   ]
  },
  {
   "cell_type": "code",
   "execution_count": null,
   "metadata": {},
   "outputs": [],
   "source": []
  }
 ],
 "metadata": {
  "kernelspec": {
   "display_name": "tfod",
   "language": "python",
   "name": "tfod"
  },
  "language_info": {
   "codemirror_mode": {
    "name": "ipython",
    "version": 3
   },
   "file_extension": ".py",
   "mimetype": "text/x-python",
   "name": "python",
   "nbconvert_exporter": "python",
   "pygments_lexer": "ipython3",
   "version": "3.7.3"
  }
 },
 "nbformat": 4,
 "nbformat_minor": 2
}
